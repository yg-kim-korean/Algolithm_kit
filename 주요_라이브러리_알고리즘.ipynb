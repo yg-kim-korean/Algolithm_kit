{
  "nbformat": 4,
  "nbformat_minor": 0,
  "metadata": {
    "colab": {
      "name": "주요 라이브러리/ 알고리즘.ipynb",
      "provenance": [],
      "authorship_tag": "ABX9TyP5bGLSWGQ+y39eulD9zSFv",
      "include_colab_link": true
    },
    "kernelspec": {
      "name": "python3",
      "display_name": "Python 3"
    }
  },
  "cells": [
    {
      "cell_type": "markdown",
      "metadata": {
        "id": "view-in-github",
        "colab_type": "text"
      },
      "source": [
        "<a href=\"https://colab.research.google.com/github/yg-kim-korean/Algolithm_kit/blob/main/%EC%A3%BC%EC%9A%94_%EB%9D%BC%EC%9D%B4%EB%B8%8C%EB%9F%AC%EB%A6%AC_%EC%95%8C%EA%B3%A0%EB%A6%AC%EC%A6%98.ipynb\" target=\"_parent\"><img src=\"https://colab.research.google.com/assets/colab-badge.svg\" alt=\"Open In Colab\"/></a>"
      ]
    },
    {
      "cell_type": "markdown",
      "metadata": {
        "id": "u7sYuwAJC3Q9"
      },
      "source": [
        "# 표준 라이브러리"
      ]
    },
    {
      "cell_type": "code",
      "metadata": {
        "id": "hRakI2LZCyMe",
        "outputId": "9863ae93-401b-49d3-eea5-891c3d96e774",
        "colab": {
          "base_uri": "https://localhost:8080/",
          "height": 35
        }
      },
      "source": [
        "#2번째 원소로 정렬\n",
        "result = sorted([('h',50),('j',70),('s',30)],key = lambda x:x[1],reverse = True)\n",
        "print(result)"
      ],
      "execution_count": 1,
      "outputs": [
        {
          "output_type": "stream",
          "text": [
            "[('j', 70), ('h', 50), ('s', 30)]\n"
          ],
          "name": "stdout"
        }
      ]
    },
    {
      "cell_type": "code",
      "metadata": {
        "id": "jErzQjMsC2ET",
        "outputId": "3ecb3f0a-3500-4dcf-c2cf-75c51a99aa98",
        "colab": {
          "base_uri": "https://localhost:8080/",
          "height": 35
        }
      },
      "source": [
        "#itertools\n",
        "#순열 permutations\n",
        "from itertools import permutations\n",
        "#리스트 a,b,c 에서 3개 뽑아 나열하는 모든 경우 출력\n",
        "data = ['a','b','c']\n",
        "result = list(permutations(data,3))\n",
        "print(result)"
      ],
      "execution_count": 2,
      "outputs": [
        {
          "output_type": "stream",
          "text": [
            "[('a', 'b', 'c'), ('a', 'c', 'b'), ('b', 'a', 'c'), ('b', 'c', 'a'), ('c', 'a', 'b'), ('c', 'b', 'a')]\n"
          ],
          "name": "stdout"
        }
      ]
    },
    {
      "cell_type": "code",
      "metadata": {
        "id": "j6i7Jyp4Enw7",
        "outputId": "3b2d6666-97dd-4678-83b8-132633215297",
        "colab": {
          "base_uri": "https://localhost:8080/",
          "height": 35
        }
      },
      "source": [
        "#조합 combinations\n",
        "from itertools import combinations\n",
        "result = list(combinations(data,2))\n",
        "print(result)"
      ],
      "execution_count": 3,
      "outputs": [
        {
          "output_type": "stream",
          "text": [
            "[('a', 'b'), ('a', 'c'), ('b', 'c')]\n"
          ],
          "name": "stdout"
        }
      ]
    },
    {
      "cell_type": "code",
      "metadata": {
        "id": "bIXOWfUdFjDO",
        "outputId": "d8c074fa-26c2-4e17-afe2-10f796742e76",
        "colab": {
          "base_uri": "https://localhost:8080/",
          "height": 35
        }
      },
      "source": [
        "#중복 포함 순열 product\n",
        "from itertools import product\n",
        "result = list(product(result,repeat=2))\n",
        "print(result)"
      ],
      "execution_count": 5,
      "outputs": [
        {
          "output_type": "stream",
          "text": [
            "[(('a', 'b'), ('a', 'b')), (('a', 'b'), ('a', 'c')), (('a', 'b'), ('b', 'c')), (('a', 'c'), ('a', 'b')), (('a', 'c'), ('a', 'c')), (('a', 'c'), ('b', 'c')), (('b', 'c'), ('a', 'b')), (('b', 'c'), ('a', 'c')), (('b', 'c'), ('b', 'c'))]\n"
          ],
          "name": "stdout"
        }
      ]
    },
    {
      "cell_type": "code",
      "metadata": {
        "id": "XuCIQmLOF6j6",
        "outputId": "9a40a40a-cc73-4105-974e-104bcb156fa6",
        "colab": {
          "base_uri": "https://localhost:8080/",
          "height": 35
        }
      },
      "source": [
        "#데이터를 뽑아 순서를 고려하지 않고 나열하는 모든 조합 / 원소 중복\n",
        "from itertools import combinations_with_replacement as cwr\n",
        "result = list(cwr(data,2)) #2개를 뽑는 모든 조합 구하기(중복허용)\n",
        "print(result)"
      ],
      "execution_count": 6,
      "outputs": [
        {
          "output_type": "stream",
          "text": [
            "[('a', 'a'), ('a', 'b'), ('a', 'c'), ('b', 'b'), ('b', 'c'), ('c', 'c')]\n"
          ],
          "name": "stdout"
        }
      ]
    },
    {
      "cell_type": "code",
      "metadata": {
        "id": "uxv2-DjMGRUr",
        "outputId": "27080bc2-9374-40ac-bae7-72f00cc47e71",
        "colab": {
          "base_uri": "https://localhost:8080/",
          "height": 35
        }
      },
      "source": [
        "#heapq\n",
        "#최소힙 사용 정렬\n",
        "import heapq\n",
        "def heapsort(it):\n",
        "  h = []\n",
        "  result = []\n",
        "  for value in it:\n",
        "    heapq.heappush(h,value)\n",
        "  for i in range(len(h)):\n",
        "    result.append(heapq.heappop(h))\n",
        "  return result\n",
        "\n",
        "\n",
        "\n",
        "result = heapsort([1,3,5,7,9,2,4,6,8,0])\n",
        "print(result)"
      ],
      "execution_count": 7,
      "outputs": [
        {
          "output_type": "stream",
          "text": [
            "[0, 1, 2, 3, 4, 5, 6, 7, 8, 9]\n"
          ],
          "name": "stdout"
        }
      ]
    },
    {
      "cell_type": "code",
      "metadata": {
        "id": "wkb7GyRZG4e6",
        "outputId": "a19fb1ad-f554-46e6-da29-5e1e34e72a53",
        "colab": {
          "base_uri": "https://localhost:8080/",
          "height": 35
        }
      },
      "source": [
        "#최대 힙 사용 오름차순 구현\n",
        "import heapq\n",
        "def heapsort(it):\n",
        "  h = []\n",
        "  result = []\n",
        "  for value in it:\n",
        "    heapq.heappush(h,-value)\n",
        "  for i in range(len(h)):\n",
        "    result.append(-heapq.heappop(h))\n",
        "  return result\n",
        "\n",
        "result = heapsort([1,3,5,7,9,2,4,6,8,0])\n",
        "print(result)"
      ],
      "execution_count": 8,
      "outputs": [
        {
          "output_type": "stream",
          "text": [
            "[9, 8, 7, 6, 5, 4, 3, 2, 1, 0]\n"
          ],
          "name": "stdout"
        }
      ]
    },
    {
      "cell_type": "code",
      "metadata": {
        "id": "gHvkyhH7HfWn"
      },
      "source": [
        ""
      ],
      "execution_count": null,
      "outputs": []
    },
    {
      "cell_type": "markdown",
      "metadata": {
        "id": "-MjocthOC1qn"
      },
      "source": [
        ""
      ]
    }
  ]
}