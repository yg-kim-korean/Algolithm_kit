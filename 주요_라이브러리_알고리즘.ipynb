{
  "nbformat": 4,
  "nbformat_minor": 0,
  "metadata": {
    "colab": {
      "name": "주요 라이브러리/ 알고리즘.ipynb",
      "provenance": [],
      "authorship_tag": "ABX9TyOjR/86whCq1wqFMAGDWbS/",
      "include_colab_link": true
    },
    "kernelspec": {
      "name": "python3",
      "display_name": "Python 3"
    }
  },
  "cells": [
    {
      "cell_type": "markdown",
      "metadata": {
        "id": "view-in-github",
        "colab_type": "text"
      },
      "source": [
        "<a href=\"https://colab.research.google.com/github/yg-kim-korean/Algolithm_kit/blob/main/%EC%A3%BC%EC%9A%94_%EB%9D%BC%EC%9D%B4%EB%B8%8C%EB%9F%AC%EB%A6%AC_%EC%95%8C%EA%B3%A0%EB%A6%AC%EC%A6%98.ipynb\" target=\"_parent\"><img src=\"https://colab.research.google.com/assets/colab-badge.svg\" alt=\"Open In Colab\"/></a>"
      ]
    },
    {
      "cell_type": "markdown",
      "metadata": {
        "id": "u7sYuwAJC3Q9"
      },
      "source": [
        "# 표준 라이브러리"
      ]
    },
    {
      "cell_type": "code",
      "metadata": {
        "id": "hRakI2LZCyMe",
        "outputId": "9863ae93-401b-49d3-eea5-891c3d96e774",
        "colab": {
          "base_uri": "https://localhost:8080/",
          "height": 35
        }
      },
      "source": [
        "#2번째 원소로 정렬\n",
        "result = sorted([('h',50),('j',70),('s',30)],key = lambda x:x[1],reverse = True)\n",
        "print(result)"
      ],
      "execution_count": 1,
      "outputs": [
        {
          "output_type": "stream",
          "text": [
            "[('j', 70), ('h', 50), ('s', 30)]\n"
          ],
          "name": "stdout"
        }
      ]
    },
    {
      "cell_type": "code",
      "metadata": {
        "id": "jErzQjMsC2ET",
        "outputId": "3ecb3f0a-3500-4dcf-c2cf-75c51a99aa98",
        "colab": {
          "base_uri": "https://localhost:8080/",
          "height": 35
        }
      },
      "source": [
        "#itertools\n",
        "#순열 permutations\n",
        "from itertools import permutations\n",
        "#리스트 a,b,c 에서 3개 뽑아 나열하는 모든 경우 출력\n",
        "data = ['a','b','c']\n",
        "result = list(permutations(data,3))\n",
        "print(result)"
      ],
      "execution_count": 2,
      "outputs": [
        {
          "output_type": "stream",
          "text": [
            "[('a', 'b', 'c'), ('a', 'c', 'b'), ('b', 'a', 'c'), ('b', 'c', 'a'), ('c', 'a', 'b'), ('c', 'b', 'a')]\n"
          ],
          "name": "stdout"
        }
      ]
    },
    {
      "cell_type": "code",
      "metadata": {
        "id": "j6i7Jyp4Enw7",
        "outputId": "3b2d6666-97dd-4678-83b8-132633215297",
        "colab": {
          "base_uri": "https://localhost:8080/",
          "height": 35
        }
      },
      "source": [
        "#조합 combinations\n",
        "from itertools import combinations\n",
        "result = list(combinations(data,2))\n",
        "print(result)"
      ],
      "execution_count": 3,
      "outputs": [
        {
          "output_type": "stream",
          "text": [
            "[('a', 'b'), ('a', 'c'), ('b', 'c')]\n"
          ],
          "name": "stdout"
        }
      ]
    },
    {
      "cell_type": "code",
      "metadata": {
        "id": "bIXOWfUdFjDO",
        "outputId": "d8c074fa-26c2-4e17-afe2-10f796742e76",
        "colab": {
          "base_uri": "https://localhost:8080/",
          "height": 35
        }
      },
      "source": [
        "#중복 포함 순열 product\n",
        "from itertools import product\n",
        "result = list(product(result,repeat=2))\n",
        "print(result)"
      ],
      "execution_count": 5,
      "outputs": [
        {
          "output_type": "stream",
          "text": [
            "[(('a', 'b'), ('a', 'b')), (('a', 'b'), ('a', 'c')), (('a', 'b'), ('b', 'c')), (('a', 'c'), ('a', 'b')), (('a', 'c'), ('a', 'c')), (('a', 'c'), ('b', 'c')), (('b', 'c'), ('a', 'b')), (('b', 'c'), ('a', 'c')), (('b', 'c'), ('b', 'c'))]\n"
          ],
          "name": "stdout"
        }
      ]
    },
    {
      "cell_type": "code",
      "metadata": {
        "id": "XuCIQmLOF6j6",
        "outputId": "9a40a40a-cc73-4105-974e-104bcb156fa6",
        "colab": {
          "base_uri": "https://localhost:8080/",
          "height": 35
        }
      },
      "source": [
        "#데이터를 뽑아 순서를 고려하지 않고 나열하는 모든 조합 / 원소 중복\n",
        "from itertools import combinations_with_replacement as cwr\n",
        "result = list(cwr(data,2)) #2개를 뽑는 모든 조합 구하기(중복허용)\n",
        "print(result)"
      ],
      "execution_count": 6,
      "outputs": [
        {
          "output_type": "stream",
          "text": [
            "[('a', 'a'), ('a', 'b'), ('a', 'c'), ('b', 'b'), ('b', 'c'), ('c', 'c')]\n"
          ],
          "name": "stdout"
        }
      ]
    },
    {
      "cell_type": "code",
      "metadata": {
        "id": "uxv2-DjMGRUr",
        "outputId": "27080bc2-9374-40ac-bae7-72f00cc47e71",
        "colab": {
          "base_uri": "https://localhost:8080/",
          "height": 35
        }
      },
      "source": [
        "#heapq\n",
        "#최소힙 사용 정렬\n",
        "import heapq\n",
        "def heapsort(it):\n",
        "  h = []\n",
        "  result = []\n",
        "  for value in it:\n",
        "    heapq.heappush(h,value)\n",
        "  for i in range(len(h)):\n",
        "    result.append(heapq.heappop(h))\n",
        "  return result\n",
        "\n",
        "\n",
        "\n",
        "result = heapsort([1,3,5,7,9,2,4,6,8,0])\n",
        "print(result)"
      ],
      "execution_count": 7,
      "outputs": [
        {
          "output_type": "stream",
          "text": [
            "[0, 1, 2, 3, 4, 5, 6, 7, 8, 9]\n"
          ],
          "name": "stdout"
        }
      ]
    },
    {
      "cell_type": "code",
      "metadata": {
        "id": "wkb7GyRZG4e6",
        "outputId": "a19fb1ad-f554-46e6-da29-5e1e34e72a53",
        "colab": {
          "base_uri": "https://localhost:8080/",
          "height": 35
        }
      },
      "source": [
        "#최대 힙 사용 오름차순 구현\n",
        "import heapq\n",
        "def heapsort(it):\n",
        "  h = []\n",
        "  result = []\n",
        "  for value in it:\n",
        "    heapq.heappush(h,-value)\n",
        "  for i in range(len(h)):\n",
        "    result.append(-heapq.heappop(h))\n",
        "  return result\n",
        "\n",
        "result = heapsort([1,3,5,7,9,2,4,6,8,0])\n",
        "print(result)"
      ],
      "execution_count": 8,
      "outputs": [
        {
          "output_type": "stream",
          "text": [
            "[9, 8, 7, 6, 5, 4, 3, 2, 1, 0]\n"
          ],
          "name": "stdout"
        }
      ]
    },
    {
      "cell_type": "code",
      "metadata": {
        "id": "gHvkyhH7HfWn",
        "outputId": "b2e14549-4e53-4f96-e4ae-cebedda6e119",
        "colab": {
          "base_uri": "https://localhost:8080/",
          "height": 53
        }
      },
      "source": [
        "#bisect 이진탐색\n",
        "#'정렬된 배열'에서 특정 원소 찾을때 매우 유용\n",
        "#bisect_left(a,x) : 정렬된 순서를 유지하면서 리스트 a에 데이터 x를 삽입할 가장 왼쪽 인덱스를 찾는 메서드\n",
        "#bisect_right()   : 정렬된 순서를 유지하면서 리스트 a에 데이터 x를 삽입할 가장 오른쪽 인덱스를 찾는 메서드\n",
        "\n",
        "#예를 들어 1,2,4,4,8 이 있으면 새롭게 4 삽입시에 -> bisect_left(a,4) / bisect_right(a,4) 입력하면 2 ,4를 반환함\n",
        "\n",
        "from bisect import bisect_left,bisect_right\n",
        "\n",
        "a = [1,2,4,4,8]\n",
        "x = 4\n",
        "print(bisect_left(a,x))\n",
        "print(bisect_right(a,x))"
      ],
      "execution_count": 9,
      "outputs": [
        {
          "output_type": "stream",
          "text": [
            "2\n",
            "4\n"
          ],
          "name": "stdout"
        }
      ]
    },
    {
      "cell_type": "code",
      "metadata": {
        "id": "3NwAFDLAM3Ps",
        "outputId": "6267e0e8-dea4-4731-fbbf-57234af69346",
        "colab": {
          "base_uri": "https://localhost:8080/",
          "height": 53
        }
      },
      "source": [
        "#bisect 활용 정렬된 리스트 에서 값이 특정 범위에 속하는 원소의 개수\n",
        "from bisect import bisect_left,bisect_right\n",
        "def count_by_range(a,left_value,right_value):\n",
        "  right_index = bisect_right(a,right_value)\n",
        "  left_index = bisect_left(a,left_value)\n",
        "  return right_index-left_index\n",
        "\n",
        "\n",
        "a = [1,2,3,3,3,3,4,4,8,9]\n",
        "print(count_by_range(a,4,4))\n",
        "print(count_by_range(a,-1,3))"
      ],
      "execution_count": 11,
      "outputs": [
        {
          "output_type": "stream",
          "text": [
            "2\n",
            "6\n"
          ],
          "name": "stdout"
        }
      ]
    },
    {
      "cell_type": "code",
      "metadata": {
        "id": "_CRMnzsPNjFE",
        "outputId": "2f70c21e-fb7b-4e41-efe6-22d4b1b15ee0",
        "colab": {
          "base_uri": "https://localhost:8080/",
          "height": 53
        }
      },
      "source": [
        "#collections\n",
        "#deque / counter\n",
        "# 큐 구현\n",
        "from collections import deque\n",
        "data = deque([2,3,4])\n",
        "data.appendleft(1)\n",
        "data.append(5)\n",
        "\n",
        "print(data)\n",
        "print(list(data))"
      ],
      "execution_count": 12,
      "outputs": [
        {
          "output_type": "stream",
          "text": [
            "deque([1, 2, 3, 4, 5])\n",
            "[1, 2, 3, 4, 5]\n"
          ],
          "name": "stdout"
        }
      ]
    },
    {
      "cell_type": "code",
      "metadata": {
        "id": "8womXJVtN3hZ",
        "outputId": "a32cb22c-d2ed-4033-8035-7e72aedf0ba5",
        "colab": {
          "base_uri": "https://localhost:8080/",
          "height": 71
        }
      },
      "source": [
        "#counter 등장횟수 세는 기능\n",
        "from collections import Counter\n",
        "\n",
        "count = Counter(['r','b','r','g','b','b'])\n",
        "print(count['b'])\n",
        "print(count['g'])\n",
        "print(dict(count))"
      ],
      "execution_count": 17,
      "outputs": [
        {
          "output_type": "stream",
          "text": [
            "3\n",
            "1\n",
            "{'r': 2, 'b': 3, 'g': 1}\n"
          ],
          "name": "stdout"
        }
      ]
    },
    {
      "cell_type": "code",
      "metadata": {
        "id": "YQGLrUdfOfQV",
        "outputId": "96390ecd-5f19-4e8b-c5d9-091e00a6b39f",
        "colab": {
          "base_uri": "https://localhost:8080/",
          "height": 179
        }
      },
      "source": [
        "#math\n",
        "import math\n",
        "print(math.factorial(5))\n",
        "print()\n",
        "print(math.sqrt(7)) #제곱근\n",
        "print()\n",
        "print(math.gcd(21,14)) #최대 공약수\n",
        "print()\n",
        "print(math.pi) # 파이 출력\n",
        "print()\n",
        "print(math.e) #자연상수 출력"
      ],
      "execution_count": 19,
      "outputs": [
        {
          "output_type": "stream",
          "text": [
            "120\n",
            "\n",
            "2.6457513110645907\n",
            "\n",
            "7\n",
            "\n",
            "3.141592653589793\n",
            "\n",
            "2.718281828459045\n"
          ],
          "name": "stdout"
        }
      ]
    },
    {
      "cell_type": "markdown",
      "metadata": {
        "id": "Ar4752PLO2iE"
      },
      "source": [
        "#자신만의 알고리즘 만들기\n",
        "참고용 - > https://github.com/ndb796/Python-Competitive-Programming-Team-Notes"
      ]
    },
    {
      "cell_type": "code",
      "metadata": {
        "id": "J0s8ylXaO4jn",
        "outputId": "a9f1f00c-6ded-47b4-80e2-68058c0e113f",
        "colab": {
          "base_uri": "https://localhost:8080/",
          "height": 89
        }
      },
      "source": [
        "#2차원 정렬 90도 회전시키기\n",
        "def rotate_a_matrix_by_90_degree(a):\n",
        "  row_length = len(a)\n",
        "  column_length = len(a[0])\n",
        "\n",
        "  res = [[0] * row_length for _ in range(column_length)]\n",
        "  for r in range(row_length):\n",
        "    for c in range(column_length):\n",
        "      res[c][row_length-1-r] = a[r][c]\n",
        "  \n",
        "  return res\n",
        "\n",
        "\n",
        "\n",
        "a = [\n",
        "     [1,2,3,4],\n",
        "     [5,6,7,8],\n",
        "     [9,10,11,12]\n",
        "]\n",
        "x = rotate_a_matrix_by_90_degree(a)\n",
        "for i in x:\n",
        "  print(i)\n"
      ],
      "execution_count": 21,
      "outputs": [
        {
          "output_type": "stream",
          "text": [
            "[9, 5, 1]\n",
            "[10, 6, 2]\n",
            "[11, 7, 3]\n",
            "[12, 8, 4]\n"
          ],
          "name": "stdout"
        }
      ]
    }
  ]
}